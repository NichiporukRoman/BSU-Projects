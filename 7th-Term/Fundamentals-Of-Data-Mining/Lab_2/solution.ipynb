{
 "cells": [
  {
   "cell_type": "code",
   "execution_count": 2,
   "metadata": {},
   "outputs": [],
   "source": [
    "import numpy as np"
   ]
  },
  {
   "cell_type": "markdown",
   "metadata": {},
   "source": [
    "# Вычисляем дисперсию и математическое ожидание"
   ]
  },
  {
   "cell_type": "code",
   "execution_count": 11,
   "metadata": {},
   "outputs": [],
   "source": [
    "num = 10\n",
    "\n",
    "dispersion = 2 - num * 0.1\n",
    "mo = num - 10"
   ]
  },
  {
   "cell_type": "markdown",
   "metadata": {},
   "source": [
    "# Генерируем равномерное распределение на интервале [0, 1]"
   ]
  },
  {
   "cell_type": "code",
   "execution_count": 15,
   "metadata": {},
   "outputs": [],
   "source": [
    "sample = np.random.uniform(0, 1, 12)\n",
    "\n",
    "def generate_normal_data(mo, sigma, num_samples):\n",
    "    r = np.random.uniform(0, 1, num_samples)\n",
    "    return  (np.sum(r) - 6) * sigma + mo\n",
    "    \n",
    "    return \n",
    "normal_data = [generate_normal_data(mo, np.sqrt(dispersion), 12) for _ in range(50)]"
   ]
  },
  {
   "cell_type": "code",
   "execution_count": null,
   "metadata": {},
   "outputs": [],
   "source": []
  }
 ],
 "metadata": {
  "kernelspec": {
   "display_name": "usr",
   "language": "python",
   "name": "python3"
  },
  "language_info": {
   "codemirror_mode": {
    "name": "ipython",
    "version": 3
   },
   "file_extension": ".py",
   "mimetype": "text/x-python",
   "name": "python",
   "nbconvert_exporter": "python",
   "pygments_lexer": "ipython3",
   "version": "3.10.12"
  }
 },
 "nbformat": 4,
 "nbformat_minor": 2
}
